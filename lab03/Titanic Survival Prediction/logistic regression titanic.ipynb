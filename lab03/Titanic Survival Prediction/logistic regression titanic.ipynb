{
 "cells": [
  {
   "cell_type": "code",
   "execution_count": 1,
   "id": "9c5b33b8",
   "metadata": {},
   "outputs": [],
   "source": [
    "import os\n",
    "import pandas as pd\n",
    "import numpy as np\n",
    "from sklearn.model_selection import (train_test_split, \n",
    "                                     cross_val_score, \n",
    "                                     cross_validate, \n",
    "                                     StratifiedKFold,\n",
    "                                     GridSearchCV,\n",
    "                                     RepeatedStratifiedKFold)\n",
    "from sklearn.metrics import (accuracy_score, \n",
    "                             roc_auc_score,\n",
    "                             classification_report, \n",
    "                             precision_score, \n",
    "                             recall_score, \n",
    "                             confusion_matrix, \n",
    "                             precision_recall_curve, \n",
    "                             roc_curve, \n",
    "                             auc, \n",
    "                             log_loss)\n",
    "\n",
    "from sklearn.feature_selection import RFE, RFECV\n",
    "from sklearn.linear_model import LogisticRegression\n",
    "from sklearn.preprocessing import LabelEncoder, StandardScaler\n",
    "from sklearn.pipeline import Pipeline\n",
    "\n",
    "import seaborn as sns\n",
    "import matplotlib.pyplot as plt\n",
    "\n",
    "import warnings\n",
    "warnings.filterwarnings('ignore')"
   ]
  },
  {
   "cell_type": "code",
   "execution_count": 2,
   "id": "c848b242",
   "metadata": {},
   "outputs": [
    {
     "name": "stdout",
     "output_type": "stream",
     "text": [
      "The current working directory is: /Users/anhdang/Documents/Github/COS30082-AppliedML/lab03/Titanic Survival Prediction\n"
     ]
    }
   ],
   "source": [
    "\n",
    "current_path = os.getcwd()\n",
    "print(\"The current working directory is:\", current_path)\n",
    " "
   ]
  },
  {
   "cell_type": "code",
   "execution_count": 3,
   "id": "3bf7b369",
   "metadata": {},
   "outputs": [],
   "source": [
    "# Load the dataset\n",
    "dataset = pd.read_csv('Titanic-Dataset.csv')"
   ]
  },
  {
   "cell_type": "code",
   "execution_count": 4,
   "id": "a822c4f9",
   "metadata": {},
   "outputs": [
    {
     "data": {
      "text/html": [
       "<div>\n",
       "<style scoped>\n",
       "    .dataframe tbody tr th:only-of-type {\n",
       "        vertical-align: middle;\n",
       "    }\n",
       "\n",
       "    .dataframe tbody tr th {\n",
       "        vertical-align: top;\n",
       "    }\n",
       "\n",
       "    .dataframe thead th {\n",
       "        text-align: right;\n",
       "    }\n",
       "</style>\n",
       "<table border=\"1\" class=\"dataframe\">\n",
       "  <thead>\n",
       "    <tr style=\"text-align: right;\">\n",
       "      <th></th>\n",
       "      <th>PassengerId</th>\n",
       "      <th>Survived</th>\n",
       "      <th>Pclass</th>\n",
       "      <th>Name</th>\n",
       "      <th>Sex</th>\n",
       "      <th>Age</th>\n",
       "      <th>SibSp</th>\n",
       "      <th>Parch</th>\n",
       "      <th>Ticket</th>\n",
       "      <th>Fare</th>\n",
       "      <th>Cabin</th>\n",
       "      <th>Embarked</th>\n",
       "    </tr>\n",
       "  </thead>\n",
       "  <tbody>\n",
       "    <tr>\n",
       "      <th>0</th>\n",
       "      <td>1</td>\n",
       "      <td>0</td>\n",
       "      <td>3</td>\n",
       "      <td>Braund, Mr. Owen Harris</td>\n",
       "      <td>male</td>\n",
       "      <td>22.0</td>\n",
       "      <td>1</td>\n",
       "      <td>0</td>\n",
       "      <td>A/5 21171</td>\n",
       "      <td>7.2500</td>\n",
       "      <td>NaN</td>\n",
       "      <td>S</td>\n",
       "    </tr>\n",
       "    <tr>\n",
       "      <th>1</th>\n",
       "      <td>2</td>\n",
       "      <td>1</td>\n",
       "      <td>1</td>\n",
       "      <td>Cumings, Mrs. John Bradley (Florence Briggs Th...</td>\n",
       "      <td>female</td>\n",
       "      <td>38.0</td>\n",
       "      <td>1</td>\n",
       "      <td>0</td>\n",
       "      <td>PC 17599</td>\n",
       "      <td>71.2833</td>\n",
       "      <td>C85</td>\n",
       "      <td>C</td>\n",
       "    </tr>\n",
       "    <tr>\n",
       "      <th>2</th>\n",
       "      <td>3</td>\n",
       "      <td>1</td>\n",
       "      <td>3</td>\n",
       "      <td>Heikkinen, Miss. Laina</td>\n",
       "      <td>female</td>\n",
       "      <td>26.0</td>\n",
       "      <td>0</td>\n",
       "      <td>0</td>\n",
       "      <td>STON/O2. 3101282</td>\n",
       "      <td>7.9250</td>\n",
       "      <td>NaN</td>\n",
       "      <td>S</td>\n",
       "    </tr>\n",
       "    <tr>\n",
       "      <th>3</th>\n",
       "      <td>4</td>\n",
       "      <td>1</td>\n",
       "      <td>1</td>\n",
       "      <td>Futrelle, Mrs. Jacques Heath (Lily May Peel)</td>\n",
       "      <td>female</td>\n",
       "      <td>35.0</td>\n",
       "      <td>1</td>\n",
       "      <td>0</td>\n",
       "      <td>113803</td>\n",
       "      <td>53.1000</td>\n",
       "      <td>C123</td>\n",
       "      <td>S</td>\n",
       "    </tr>\n",
       "    <tr>\n",
       "      <th>4</th>\n",
       "      <td>5</td>\n",
       "      <td>0</td>\n",
       "      <td>3</td>\n",
       "      <td>Allen, Mr. William Henry</td>\n",
       "      <td>male</td>\n",
       "      <td>35.0</td>\n",
       "      <td>0</td>\n",
       "      <td>0</td>\n",
       "      <td>373450</td>\n",
       "      <td>8.0500</td>\n",
       "      <td>NaN</td>\n",
       "      <td>S</td>\n",
       "    </tr>\n",
       "  </tbody>\n",
       "</table>\n",
       "</div>"
      ],
      "text/plain": [
       "   PassengerId  Survived  Pclass  \\\n",
       "0            1         0       3   \n",
       "1            2         1       1   \n",
       "2            3         1       3   \n",
       "3            4         1       1   \n",
       "4            5         0       3   \n",
       "\n",
       "                                                Name     Sex   Age  SibSp  \\\n",
       "0                            Braund, Mr. Owen Harris    male  22.0      1   \n",
       "1  Cumings, Mrs. John Bradley (Florence Briggs Th...  female  38.0      1   \n",
       "2                             Heikkinen, Miss. Laina  female  26.0      0   \n",
       "3       Futrelle, Mrs. Jacques Heath (Lily May Peel)  female  35.0      1   \n",
       "4                           Allen, Mr. William Henry    male  35.0      0   \n",
       "\n",
       "   Parch            Ticket     Fare Cabin Embarked  \n",
       "0      0         A/5 21171   7.2500   NaN        S  \n",
       "1      0          PC 17599  71.2833   C85        C  \n",
       "2      0  STON/O2. 3101282   7.9250   NaN        S  \n",
       "3      0            113803  53.1000  C123        S  \n",
       "4      0            373450   8.0500   NaN        S  "
      ]
     },
     "execution_count": 4,
     "metadata": {},
     "output_type": "execute_result"
    }
   ],
   "source": [
    "dataset.head()"
   ]
  },
  {
   "cell_type": "code",
   "execution_count": 5,
   "id": "0f272f82",
   "metadata": {},
   "outputs": [
    {
     "data": {
      "text/plain": [
       "(891, 12)"
      ]
     },
     "execution_count": 5,
     "metadata": {},
     "output_type": "execute_result"
    }
   ],
   "source": [
    "dataset.shape"
   ]
  },
  {
   "cell_type": "code",
   "execution_count": 6,
   "id": "e8463146",
   "metadata": {},
   "outputs": [
    {
     "data": {
      "text/html": [
       "<div>\n",
       "<style scoped>\n",
       "    .dataframe tbody tr th:only-of-type {\n",
       "        vertical-align: middle;\n",
       "    }\n",
       "\n",
       "    .dataframe tbody tr th {\n",
       "        vertical-align: top;\n",
       "    }\n",
       "\n",
       "    .dataframe thead th {\n",
       "        text-align: right;\n",
       "    }\n",
       "</style>\n",
       "<table border=\"1\" class=\"dataframe\">\n",
       "  <thead>\n",
       "    <tr style=\"text-align: right;\">\n",
       "      <th></th>\n",
       "      <th>PassengerId</th>\n",
       "      <th>Survived</th>\n",
       "      <th>Pclass</th>\n",
       "      <th>Age</th>\n",
       "      <th>SibSp</th>\n",
       "      <th>Parch</th>\n",
       "      <th>Fare</th>\n",
       "    </tr>\n",
       "  </thead>\n",
       "  <tbody>\n",
       "    <tr>\n",
       "      <th>count</th>\n",
       "      <td>891.000000</td>\n",
       "      <td>891.000000</td>\n",
       "      <td>891.000000</td>\n",
       "      <td>714.000000</td>\n",
       "      <td>891.000000</td>\n",
       "      <td>891.000000</td>\n",
       "      <td>891.000000</td>\n",
       "    </tr>\n",
       "    <tr>\n",
       "      <th>mean</th>\n",
       "      <td>446.000000</td>\n",
       "      <td>0.383838</td>\n",
       "      <td>2.308642</td>\n",
       "      <td>29.699118</td>\n",
       "      <td>0.523008</td>\n",
       "      <td>0.381594</td>\n",
       "      <td>32.204208</td>\n",
       "    </tr>\n",
       "    <tr>\n",
       "      <th>std</th>\n",
       "      <td>257.353842</td>\n",
       "      <td>0.486592</td>\n",
       "      <td>0.836071</td>\n",
       "      <td>14.526497</td>\n",
       "      <td>1.102743</td>\n",
       "      <td>0.806057</td>\n",
       "      <td>49.693429</td>\n",
       "    </tr>\n",
       "    <tr>\n",
       "      <th>min</th>\n",
       "      <td>1.000000</td>\n",
       "      <td>0.000000</td>\n",
       "      <td>1.000000</td>\n",
       "      <td>0.420000</td>\n",
       "      <td>0.000000</td>\n",
       "      <td>0.000000</td>\n",
       "      <td>0.000000</td>\n",
       "    </tr>\n",
       "    <tr>\n",
       "      <th>25%</th>\n",
       "      <td>223.500000</td>\n",
       "      <td>0.000000</td>\n",
       "      <td>2.000000</td>\n",
       "      <td>20.125000</td>\n",
       "      <td>0.000000</td>\n",
       "      <td>0.000000</td>\n",
       "      <td>7.910400</td>\n",
       "    </tr>\n",
       "    <tr>\n",
       "      <th>50%</th>\n",
       "      <td>446.000000</td>\n",
       "      <td>0.000000</td>\n",
       "      <td>3.000000</td>\n",
       "      <td>28.000000</td>\n",
       "      <td>0.000000</td>\n",
       "      <td>0.000000</td>\n",
       "      <td>14.454200</td>\n",
       "    </tr>\n",
       "    <tr>\n",
       "      <th>75%</th>\n",
       "      <td>668.500000</td>\n",
       "      <td>1.000000</td>\n",
       "      <td>3.000000</td>\n",
       "      <td>38.000000</td>\n",
       "      <td>1.000000</td>\n",
       "      <td>0.000000</td>\n",
       "      <td>31.000000</td>\n",
       "    </tr>\n",
       "    <tr>\n",
       "      <th>max</th>\n",
       "      <td>891.000000</td>\n",
       "      <td>1.000000</td>\n",
       "      <td>3.000000</td>\n",
       "      <td>80.000000</td>\n",
       "      <td>8.000000</td>\n",
       "      <td>6.000000</td>\n",
       "      <td>512.329200</td>\n",
       "    </tr>\n",
       "  </tbody>\n",
       "</table>\n",
       "</div>"
      ],
      "text/plain": [
       "       PassengerId    Survived      Pclass         Age       SibSp  \\\n",
       "count   891.000000  891.000000  891.000000  714.000000  891.000000   \n",
       "mean    446.000000    0.383838    2.308642   29.699118    0.523008   \n",
       "std     257.353842    0.486592    0.836071   14.526497    1.102743   \n",
       "min       1.000000    0.000000    1.000000    0.420000    0.000000   \n",
       "25%     223.500000    0.000000    2.000000   20.125000    0.000000   \n",
       "50%     446.000000    0.000000    3.000000   28.000000    0.000000   \n",
       "75%     668.500000    1.000000    3.000000   38.000000    1.000000   \n",
       "max     891.000000    1.000000    3.000000   80.000000    8.000000   \n",
       "\n",
       "            Parch        Fare  \n",
       "count  891.000000  891.000000  \n",
       "mean     0.381594   32.204208  \n",
       "std      0.806057   49.693429  \n",
       "min      0.000000    0.000000  \n",
       "25%      0.000000    7.910400  \n",
       "50%      0.000000   14.454200  \n",
       "75%      0.000000   31.000000  \n",
       "max      6.000000  512.329200  "
      ]
     },
     "execution_count": 6,
     "metadata": {},
     "output_type": "execute_result"
    }
   ],
   "source": [
    "dataset.describe()"
   ]
  },
  {
   "cell_type": "code",
   "execution_count": 7,
   "id": "ad0f5eab",
   "metadata": {},
   "outputs": [
    {
     "data": {
      "text/plain": [
       "array(['PassengerId', 'Survived', 'Pclass', 'Name', 'Sex', 'Age', 'SibSp',\n",
       "       'Parch', 'Ticket', 'Fare', 'Cabin', 'Embarked'], dtype=object)"
      ]
     },
     "execution_count": 7,
     "metadata": {},
     "output_type": "execute_result"
    }
   ],
   "source": [
    "dataset.columns.values"
   ]
  },
  {
   "cell_type": "code",
   "execution_count": 8,
   "id": "ca57e676",
   "metadata": {},
   "outputs": [
    {
     "data": {
      "text/plain": [
       "Cabin          687\n",
       "Age            177\n",
       "Embarked         2\n",
       "PassengerId      0\n",
       "Survived         0\n",
       "Pclass           0\n",
       "Name             0\n",
       "Sex              0\n",
       "SibSp            0\n",
       "Parch            0\n",
       "Ticket           0\n",
       "Fare             0\n",
       "dtype: int64"
      ]
     },
     "execution_count": 8,
     "metadata": {},
     "output_type": "execute_result"
    }
   ],
   "source": [
    "total = dataset.isnull().sum().sort_values(ascending=False)\n",
    "total"
   ]
  },
  {
   "cell_type": "markdown",
   "id": "196e0dd8",
   "metadata": {},
   "source": [
    "# Age"
   ]
  },
  {
   "cell_type": "code",
   "execution_count": 9,
   "id": "685175b9",
   "metadata": {},
   "outputs": [
    {
     "name": "stdout",
     "output_type": "stream",
     "text": [
      "Percent of missing \"Age\" records is 19.87%\n"
     ]
    }
   ],
   "source": [
    "print('Percent of missing \"Age\" records is %.2f%%' %((dataset['Age'].isnull().sum()/dataset.shape[0])*100))"
   ]
  },
  {
   "cell_type": "code",
   "execution_count": 10,
   "id": "26ab86f4",
   "metadata": {},
   "outputs": [
    {
     "data": {
      "image/png": "[encoded data removed]",
      "text/plain": [
       "<Figure size 640x480 with 1 Axes>"
      ]
     },
     "metadata": {},
     "output_type": "display_data"
    }
   ],
   "source": [
    "ax = dataset[\"Age\"].hist(bins=15, density=True, stacked=True, color='teal', alpha=0.6)\n",
    "dataset[\"Age\"].plot(kind='density', color='teal')\n",
    "ax.set(xlabel='Age')\n",
    "plt.xlim(-10,85)\n",
    "plt.show()"
   ]
  },
  {
   "cell_type": "code",
   "execution_count": 11,
   "id": "d3c9146d",
   "metadata": {},
   "outputs": [
    {
     "name": "stdout",
     "output_type": "stream",
     "text": [
      "The mean of \"Age\" is 29.70\n",
      "The median of \"Age\" is 28.00\n"
     ]
    }
   ],
   "source": [
    "# mean age\n",
    "print('The mean of \"Age\" is %.2f' %(dataset[\"Age\"].mean(skipna=True)))\n",
    "# median age\n",
    "print('The median of \"Age\" is %.2f' %(dataset[\"Age\"].median(skipna=True)))"
   ]
  },
  {
   "cell_type": "markdown",
   "id": "e56da35f",
   "metadata": {},
   "source": [
    "# Cabin"
   ]
  },
  {
   "cell_type": "code",
   "execution_count": 12,
   "id": "802dfe94",
   "metadata": {},
   "outputs": [
    {
     "name": "stdout",
     "output_type": "stream",
     "text": [
      "Percent of missing \"Cabin\" records is 77.10%\n"
     ]
    }
   ],
   "source": [
    "print('Percent of missing \"Cabin\" records is %.2f%%' %((dataset['Cabin'].isnull().sum()/dataset.shape[0])*100))"
   ]
  },
  {
   "cell_type": "markdown",
   "id": "e1558419",
   "metadata": {},
   "source": [
    "# Embarked"
   ]
  },
  {
   "cell_type": "code",
   "execution_count": 13,
   "id": "bfe0adb3",
   "metadata": {},
   "outputs": [
    {
     "name": "stdout",
     "output_type": "stream",
     "text": [
      "Percent of missing \"Embarked\" records is 0.22%\n"
     ]
    }
   ],
   "source": [
    "print('Percent of missing \"Embarked\" records is %.2f%%' %((dataset['Embarked'].isnull().sum()/dataset.shape[0])*100))"
   ]
  },
  {
   "cell_type": "code",
   "execution_count": 14,
   "id": "f10c9081",
   "metadata": {},
   "outputs": [
    {
     "name": "stdout",
     "output_type": "stream",
     "text": [
      "Boarded passengers grouped by port of embarkation (C = Cherbourg, Q = Queenstown, S = Southampton):\n",
      "Embarked\n",
      "S    644\n",
      "C    168\n",
      "Q     77\n",
      "Name: count, dtype: int64\n"
     ]
    },
    {
     "data": {
      "image/png": "[encoded data removed]",
      "text/plain": [
       "<Figure size 640x480 with 1 Axes>"
      ]
     },
     "metadata": {},
     "output_type": "display_data"
    }
   ],
   "source": [
    "print('Boarded passengers grouped by port of embarkation (C = Cherbourg, Q = Queenstown, S = Southampton):')\n",
    "print(dataset['Embarked'].value_counts())\n",
    "sns.countplot(x='Embarked', data=dataset, palette='Set2')\n",
    "plt.show()"
   ]
  },
  {
   "cell_type": "code",
   "execution_count": 15,
   "id": "612977e3",
   "metadata": {},
   "outputs": [
    {
     "name": "stdout",
     "output_type": "stream",
     "text": [
      "The most common boarding port of embarkation is S.\n"
     ]
    }
   ],
   "source": [
    "print('The most common boarding port of embarkation is %s.' %dataset['Embarked'].value_counts().idxmax())"
   ]
  },
  {
   "cell_type": "markdown",
   "id": "6fab6859",
   "metadata": {},
   "source": [
    "# Data Preprocessing"
   ]
  },
  {
   "cell_type": "code",
   "execution_count": 16,
   "id": "0ca22a2a",
   "metadata": {},
   "outputs": [],
   "source": [
    "def preprocessing(dataset):\n",
    "    \n",
    "    # Convert 'Sex' to numerical\n",
    "    label_encoder = LabelEncoder()\n",
    "    dataset['Sex'] = label_encoder.fit_transform(dataset['Sex'])\n",
    "    \n",
    "    # Fill missing values\n",
    "    dataset[\"Age\"].fillna(dataset[\"Age\"].median(skipna=True), inplace=True)\n",
    "    dataset[\"Embarked\"].fillna(dataset['Embarked'].value_counts().idxmax(), inplace=True)\n",
    "    \n",
    "    # Adding new column to check if passenger is a child\n",
    "    dataset['IsChild'] = np.where(dataset['Age']<=16, 1, 0)\n",
    "    \n",
    "    print(dataset.isnull().sum())\n",
    "    \n",
    "    ## Create categorical variable for traveling alone\n",
    "    dataset['TravelAlone']=np.where((dataset[\"SibSp\"]+dataset[\"Parch\"])>0, 0, 1)\n",
    "    dataset.drop('SibSp', axis=1, inplace=True)\n",
    "    dataset.drop('Parch', axis=1, inplace=True)\n",
    "    \n",
    "    # Create categorical variables and drop some variables\n",
    "    dataset=pd.get_dummies(dataset, columns=[\"Pclass\",\"Embarked\"])\n",
    "    \n",
    "    # Convert True/False values to 0/1 for Embarked\n",
    "    dataset['Embarked_C'] = dataset['Embarked_C'].astype(int)\n",
    "    dataset['Embarked_Q'] = dataset['Embarked_Q'].astype(int)\n",
    "    dataset['Embarked_S'] = dataset['Embarked_S'].astype(int)\n",
    "    \n",
    "    # Convert True/False values to 0/1 for Pclass\n",
    "    dataset['Pclass_1'] = dataset['Pclass_1'].astype(int)\n",
    "    dataset['Pclass_2'] = dataset['Pclass_2'].astype(int)\n",
    "    dataset['Pclass_3'] = dataset['Pclass_3'].astype(int)\n",
    "\n",
    "    # Drop the columns\n",
    "    dataset.drop(['Cabin','PassengerId', 'Name', 'Ticket'], axis=1, inplace=True)\n",
    "    \n",
    "    print(dataset.head(5))  \n",
    "    return dataset\n"
   ]
  },
  {
   "cell_type": "code",
   "execution_count": 17,
   "id": "2d91f3ff",
   "metadata": {},
   "outputs": [
    {
     "name": "stdout",
     "output_type": "stream",
     "text": [
      "PassengerId      0\n",
      "Survived         0\n",
      "Pclass           0\n",
      "Name             0\n",
      "Sex              0\n",
      "Age              0\n",
      "SibSp            0\n",
      "Parch            0\n",
      "Ticket           0\n",
      "Fare             0\n",
      "Cabin          687\n",
      "Embarked         0\n",
      "IsChild          0\n",
      "dtype: int64\n",
      "   Survived  Sex   Age     Fare  IsChild  TravelAlone  Pclass_1  Pclass_2  \\\n",
      "0         0    1  22.0   7.2500        0            0         0         0   \n",
      "1         1    0  38.0  71.2833        0            0         1         0   \n",
      "2         1    0  26.0   7.9250        0            1         0         0   \n",
      "3         1    0  35.0  53.1000        0            0         1         0   \n",
      "4         0    1  35.0   8.0500        0            1         0         0   \n",
      "\n",
      "   Pclass_3  Embarked_C  Embarked_Q  Embarked_S  \n",
      "0         1           0           0           1  \n",
      "1         0           1           0           0  \n",
      "2         1           0           0           1  \n",
      "3         0           0           0           1  \n",
      "4         1           0           0           1  \n"
     ]
    }
   ],
   "source": [
    "raw_dataset = dataset.copy()\n",
    "clean_dataset = preprocessing(raw_dataset)"
   ]
  },
  {
   "cell_type": "markdown",
   "id": "5de9b621",
   "metadata": {},
   "source": [
    "# Logistic Regression Trainer"
   ]
  },
  {
   "cell_type": "code",
   "execution_count": 18,
   "id": "38d2cf52",
   "metadata": {},
   "outputs": [],
   "source": [
    "class LogisticRegressionTrainer:\n",
    "    \"\"\"\n",
    "    A class for training a Logistic Regression model with automated feature selection and hyperparameter tuning.\n",
    "    \"\"\"\n",
    "\n",
    "    def __init__(self, dataset, target_column='Survived', test_size=0.2, random_state=42, max_iter=1000, cv_splits=5):\n",
    "        \"\"\"\n",
    "        Initializes the trainer with the dataset and training parameters.\n",
    "        \"\"\"\n",
    "        \n",
    "        self.dataset = dataset\n",
    "        self.target_column = target_column\n",
    "        self.test_size = test_size\n",
    "        self.random_state = random_state\n",
    "        self.max_iter = max_iter\n",
    "        self.cv_splits = cv_splits\n",
    "        self.X_train = None\n",
    "        self.X_test = None\n",
    "        self.y_train = None\n",
    "        self.y_test = None\n",
    "        self.selected_features = []\n",
    "        self.grid_search = None\n",
    "\n",
    "    def _find_best_features(self):\n",
    "        \"\"\"\n",
    "        Identifies the best features for the Logistic Regression model using Recursive Feature Elimination.\n",
    "        \"\"\"\n",
    "        \n",
    "        columns = self.dataset.columns.tolist()\n",
    "        predictors = [column for column in columns if column != self.target_column]\n",
    "\n",
    "        X = self.dataset[predictors].values\n",
    "        y = self.dataset[self.target_column].values.ravel()\n",
    "\n",
    "        model = LogisticRegression(max_iter=self.max_iter, solver='liblinear')\n",
    "        rfecv = RFECV(estimator=model, step=1, cv=StratifiedKFold(5), scoring='accuracy')\n",
    "        rfecv.fit(X, y)\n",
    "\n",
    "        print(f\"Optimal number of features: {rfecv.n_features_}\")\n",
    "        self.selected_features = [predictors[i] for i in range(len(predictors)) if rfecv.support_[i]]\n",
    "        print(f'Selected features: {self.selected_features}')\n",
    "\n",
    "        self._split_dataset()\n",
    "\n",
    "    def _split_dataset(self):\n",
    "        \"\"\"\n",
    "        Splits the dataset into training and testing sets based on the selected features.\n",
    "        \"\"\"\n",
    "        X_selected = self.dataset[self.selected_features]\n",
    "        y = self.dataset[self.target_column].values.ravel()\n",
    "\n",
    "        self.X_train, self.X_test, self.y_train, self.y_test = train_test_split(\n",
    "            X_selected, y, test_size=self.test_size, random_state=self.random_state\n",
    "        )\n",
    "\n",
    "    def _train_logistic_regression_model(self):\n",
    "        \"\"\"\n",
    "        Trains the Logistic Regression model using GridSearchCV for hyperparameter tuning.\n",
    "        \"\"\"\n",
    "        \n",
    "        pipeline = Pipeline([\n",
    "            ('logreg', LogisticRegression(solver='liblinear', max_iter=self.max_iter, random_state=self.random_state))\n",
    "        ])\n",
    "\n",
    "        param_grid = {\n",
    "            'logreg__C': [0.001, 0.01, 0.1, 1, 10, 100],\n",
    "            'logreg__penalty': ['l1', 'l2']\n",
    "        }\n",
    "\n",
    "        cv_strategy = StratifiedKFold(n_splits=self.cv_splits, shuffle=True, random_state=self.random_state)\n",
    "        self.grid_search = GridSearchCV(pipeline, param_grid, cv=cv_strategy, scoring='accuracy', verbose=1)\n",
    "        self.grid_search.fit(self.X_train, self.y_train)\n",
    "\n",
    "        print(f\"Best parameters: {self.grid_search.best_params_}\")\n",
    "\n",
    "    def _evaluate_model(self):\n",
    "        \"\"\"\n",
    "        Evaluates the model's performance on the test set and prints metrics.\n",
    "        \"\"\"\n",
    "        \n",
    "        y_pred = self.grid_search.predict(self.X_test)\n",
    "        y_pred_proba = self.grid_search.predict_proba(self.X_test)[:, 1]\n",
    "\n",
    "        accuracy = accuracy_score(self.y_test, y_pred)\n",
    "        recall = recall_score(self.y_test, y_pred)\n",
    "        roc_auc = roc_auc_score(self.y_test, y_pred_proba)\n",
    "\n",
    "        print(f\"Accuracy on test set: {accuracy:.2f}\")\n",
    "        print(f\"Recall: {recall:.2f}\")\n",
    "        print(f\"ROC AUC score on test set: {roc_auc:.2f}\")\n",
    "        print(\"\\nClassification Report:\\n\", classification_report(self.y_test, y_pred))\n",
    "\n",
    "    def train(self):\n",
    "        \"\"\"\n",
    "        Public method to train the model and evaluate its performance.\n",
    "        \"\"\"\n",
    "        \n",
    "        if not self.X_train or not self.y_train:\n",
    "            print(\"Dataset not prepared for training. Finding best features first.\")\n",
    "            self._find_best_features()\n",
    "        self._train_logistic_regression_model()\n",
    "    \n",
    "    def evaluate(self):\n",
    "        self._evaluate_model()\n",
    "        \n",
    "    def predict(self, X_new):\n",
    "        \"\"\"\n",
    "        Makes predictions on new data using the trained model.\n",
    "        \"\"\"\n",
    "        \n",
    "        if self.grid_search is None:\n",
    "            print(\"Model is not trained yet. Please train the model before making predictions.\")\n",
    "            return None\n",
    "        \n",
    "        if self.selected_features:\n",
    "            X_new_selected = X_new[self.selected_features]\n",
    "        else:\n",
    "            print(\"Selected features are not identified. Please check the model training process.\")\n",
    "            return None\n",
    "        \n",
    "        predictions = self.grid_search.predict(X_new_selected)\n",
    "        return predictions"
   ]
  },
  {
   "cell_type": "code",
   "execution_count": 19,
   "id": "a66ff8b5",
   "metadata": {},
   "outputs": [
    {
     "name": "stdout",
     "output_type": "stream",
     "text": [
      "Dataset not prepared for training. Finding best features first.\n",
      "Optimal number of features: 11\n",
      "Selected features: ['Sex', 'Age', 'Fare', 'IsChild', 'TravelAlone', 'Pclass_1', 'Pclass_2', 'Pclass_3', 'Embarked_C', 'Embarked_Q', 'Embarked_S']\n",
      "Fitting 5 folds for each of 12 candidates, totalling 60 fits\n",
      "Best parameters: {'logreg__C': 10, 'logreg__penalty': 'l1'}\n",
      "Accuracy on test set: 0.79\n",
      "Recall: 0.69\n",
      "ROC AUC score on test set: 0.85\n",
      "\n",
      "Classification Report:\n",
      "               precision    recall  f1-score   support\n",
      "\n",
      "           0       0.81      0.86      0.83       267\n",
      "           1       0.77      0.69      0.73       179\n",
      "\n",
      "    accuracy                           0.79       446\n",
      "   macro avg       0.79      0.78      0.78       446\n",
      "weighted avg       0.79      0.79      0.79       446\n",
      "\n"
     ]
    }
   ],
   "source": [
    "model = LogisticRegressionTrainer(clean_dataset, \n",
    "                                    target_column='Survived', \n",
    "                                    test_size=0.5, \n",
    "                                    random_state=42, \n",
    "                                    max_iter=500, \n",
    "                                    cv_splits=5)\n",
    "model.train()\n",
    "model.evaluate()"
   ]
  },
  {
   "cell_type": "markdown",
   "id": "1692bffb",
   "metadata": {},
   "source": [
    "# Dummy Data Frame"
   ]
  },
  {
   "cell_type": "code",
   "execution_count": 20,
   "id": "69c58d4c",
   "metadata": {},
   "outputs": [
    {
     "name": "stdout",
     "output_type": "stream",
     "text": [
      "PassengerId    0\n",
      "Pclass         0\n",
      "Name           0\n",
      "Sex            0\n",
      "Age            0\n",
      "SibSp          0\n",
      "Parch          0\n",
      "Ticket         0\n",
      "Fare           0\n",
      "Cabin          2\n",
      "Embarked       0\n",
      "IsChild        0\n",
      "dtype: int64\n",
      "   Sex   Age     Fare  IsChild  TravelAlone  Pclass_1  Pclass_2  Pclass_3  \\\n",
      "0    1  22.0   7.2500        0            0         1         0         0   \n",
      "1    0  38.0  71.2833        0            0         0         0         1   \n",
      "2    0  30.0  15.0458        0            1         0         1         0   \n",
      "\n",
      "   Embarked_C  Embarked_Q  Embarked_S  \n",
      "0           0           0           1  \n",
      "1           1           0           0  \n",
      "2           0           1           0  \n"
     ]
    }
   ],
   "source": [
    "dummy_data = {\n",
    "    'PassengerId': [1000, 1001, 1002],\n",
    "    'Pclass': [1, 3, 2],\n",
    "    'Name': ['John Doe', 'Jane Doe', 'Alex Doe'],\n",
    "    'Sex': ['male', 'female', 'female'],\n",
    "    'Age': [22, 38, np.nan],\n",
    "    'SibSp': [1, 1, 0],\n",
    "    'Parch': [0, 2, 0],\n",
    "    'Ticket': ['A/5 21171', 'PC 17599', 'STON/O2. 3101282'],\n",
    "    'Fare': [7.25, 71.2833, 15.0458],\n",
    "    'Cabin': [np.nan, 'C85', np.nan],\n",
    "    'Embarked': ['S', 'C', 'Q']\n",
    "}\n",
    "\n",
    "dummy_df = pd.DataFrame(dummy_data)\n",
    "\n",
    "processed_dummy_df = preprocessing(dummy_df)"
   ]
  },
  {
   "cell_type": "code",
   "execution_count": 21,
   "id": "05248ec9",
   "metadata": {},
   "outputs": [
    {
     "name": "stdout",
     "output_type": "stream",
     "text": [
      "Person 1 prediction: Not survived\n",
      "Person 2 prediction: Survived\n",
      "Person 3 prediction: Survived\n"
     ]
    }
   ],
   "source": [
    "# Displaying predictions in a readable format\n",
    "dummy_prediction = model.predict(processed_dummy_df)\n",
    "\n",
    "for i, pred in enumerate(dummy_prediction):\n",
    "    print(f\"Person {i+1} prediction: {'Survived' if pred == 1 else 'Not survived'}\")"
   ]
  }
 ],
 "metadata": {
  "kernelspec": {
   "display_name": "Python 3 (ipykernel)",
   "language": "python",
   "name": "python3"
  },
  "language_info": {
   "codemirror_mode": {
    "name": "ipython",
    "version": 3
   },
   "file_extension": ".py",
   "mimetype": "text/x-python",
   "name": "python",
   "nbconvert_exporter": "python",
   "pygments_lexer": "ipython3",
   "version": "3.11.7"
  }
 },
 "nbformat": 4,
 "nbformat_minor": 5
}
